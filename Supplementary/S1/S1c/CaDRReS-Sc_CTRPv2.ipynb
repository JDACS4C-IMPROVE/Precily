{
 "cells": [
  {
   "cell_type": "code",
   "execution_count": null,
   "id": "dda82ee1",
   "metadata": {},
   "outputs": [],
   "source": [
    "import sys, os, pickle\n",
    "import pandas as pd\n",
    "import numpy as np\n",
    "np.set_printoptions(precision=2)\n",
    "from collections import Counter\n",
    "\n",
    "import importlib\n",
    "from ipywidgets import widgets\n",
    "import warnings\n",
    "warnings.filterwarnings('ignore')\n",
    "\n",
    "scriptpath = ''\n",
    "sys.path.append(os.path.abspath(scriptpath))\n",
    "\n",
    "from cadrres_sc import pp, model, evaluation, utility"
   ]
  },
  {
   "cell_type": "code",
   "execution_count": null,
   "id": "0928d056",
   "metadata": {},
   "outputs": [],
   "source": [
    "cell_line_obs_df = pd.read_csv('DRUGS_CELL_LINE_IC50_CTRPV2.csv', index_col=0)\n",
    "cell_line_obs_df\n",
    "cell_line_obs_df.index = cell_line_obs_df.index.astype(str)\n",
    "\n",
    "# cell lines list which your model will be trained on\n",
    "cell_line_sample_list = cell_line_obs_df.index.astype(str)\n",
    "\n",
    "gene_exp_df = pd.read_csv('Training_data_CCLE_CTRPV2_CaDRReS-Sc.csv', sep=',', index_col=0)\n",
    "print(\"Dataframe shape:\", gene_exp_df.shape, \"\\n\")\n",
    "gene_exp_df.head(2)\n",
    "\n",
    "\n",
    "\n",
    "cell_line_log2_mean_fc_exp_df, cell_line_mean_exp_df = pp.gexp.normalize_log2_mean_fc(gene_exp_df)\n",
    "ess_gene_list = utility.get_gene_list('essential_genes.txt')\n",
    "dataset_drug_df = pd.read_csv('Drug_conc_CTRPV2.csv', index_col=0)\n"
   ]
  },
  {
   "cell_type": "code",
   "execution_count": null,
   "id": "9d32773e",
   "metadata": {},
   "outputs": [],
   "source": [
    "kernel_feature_df = pp.gexp.calculate_kernel_feature(cell_line_log2_mean_fc_exp_df, cell_line_log2_mean_fc_exp_df, ess_gene_list).loc[cell_line_sample_list]\n"
   ]
  },
  {
   "cell_type": "code",
   "execution_count": null,
   "id": "a68f58b5",
   "metadata": {},
   "outputs": [],
   "source": [
    "#Model training\n",
    "\n",
    "# kernel feature based only on training samples\n",
    "X_train = kernel_feature_df.loc[cell_line_sample_list, cell_line_sample_list]\n",
    "# observed drug response\n",
    "Y_train = cell_line_obs_df.loc[cell_line_sample_list]\n",
    "obj_function = widgets.Dropdown(options=['cadrres-wo-sample-bias', 'cadrres-wo-sample-bias-weight'], description='Objetice function')\n",
    "model_spec_name = obj_function.value # cadrres-wo-sample-bias | cadrres-wo-sample-bias-weight\n",
    "\n",
    "indication_specific_degree = 1 # multiply by 1 = no indication-specific\n",
    "# indication_specific_degree = 10\n",
    "\n",
    "indication_specific_degree\n",
    "\n",
    "output_dir = ''\n",
    "\n",
    "sample_weights_logistic_x0_df = model.get_sample_weights_logistic_x0(dataset_drug_df, 'log2_max_conc', X_train.index)\n",
    "indication_weight_df = pd.DataFrame(np.ones(Y_train.shape), index=Y_train.index, columns=Y_train.columns)\n",
    "\n",
    "\n",
    "if model_spec_name in ['cadrres', 'cadrres-wo-sample-bias']:\n",
    "\tcadrres_model_dict, cadrres_output_dict = model.train_model(Y_train, X_train, Y_train, X_train, 10, 0.0, 100000, 0.01, model_spec_name=model_spec_name, save_interval=5000, output_dir=output_dir)\n",
    "elif model_spec_name in ['cadrres-wo-sample-bias-weight']:\n",
    "\tcadrres_model_dict, cadrres_output_dict = model.train_model_logistic_weight(Y_train, X_train, Y_test, X_test, sample_weights_logistic_x0_df, indication_weight_df, 10, 0.0, 100000, 0.01, model_spec_name=model_spec_name, save_interval=5000, output_dir=output_dir)\n",
    "\n",
    "\n",
    "\n",
    "print(\"Saving \" + output_dir + \"{}_param_dict.pickle\".format(model_spec_name))\n",
    "pickle.dump(cadrres_model_dict, open(output_dir + '{}_param_dict.pickle'.format(model_spec_name), 'wb'))\n",
    "print(\"Saving \" + output_dir + '{}_output_dict.pickle'.format(model_spec_name))\n",
    "pickle.dump(cadrres_output_dict, open(output_dir + '{}_output_dict.pickle'.format(model_spec_name), 'wb'))"
   ]
  },
  {
   "cell_type": "code",
   "execution_count": null,
   "id": "b91491ae",
   "metadata": {},
   "outputs": [],
   "source": [
    "##testing\n",
    "gene_exp_df1 = pd.read_csv('Test_data_CCLE_CTRP2_CaDRReS.csv', sep=',', index_col=0)\n",
    "gene_exp_df1 = gene_exp_df1.groupby(gene_exp_df1.index).mean()\n",
    "print(\"Dataframe shape:\", gene_exp_df1.shape, \"\\n\")\n",
    "gene_exp_df1.head(2)\n",
    "cell_line_log2_mean_fc_exp_df1, cell_line_mean_exp_df1 = pp.gexp.normalize_log2_mean_fc(gene_exp_df1)\n",
    "kernel_df = pp.gexp.calculate_kernel_feature(cell_line_log2_mean_fc_exp_df1, cell_line_log2_mean_fc_exp_df, ess_gene_list)"
   ]
  },
  {
   "cell_type": "code",
   "execution_count": null,
   "id": "b1c4bd26",
   "metadata": {},
   "outputs": [],
   "source": [
    "model_dir = ''\n",
    "obj_function = widgets.Dropdown(options=['cadrres-wo-sample-bias', 'cadrres-wo-sample-bias-weight'], description='Objetice function')\n",
    "#choose which model you have trained previously\n",
    "display(obj_function)\n",
    "\n",
    "model_spec_name = obj_function.value\n",
    "model_file = model_dir + '{}_param_dict.pickle'.format(model_spec_name)\n",
    "\n",
    "cadrres_model = model.load_model(model_file)\n"
   ]
  },
  {
   "cell_type": "code",
   "execution_count": null,
   "id": "646f64df",
   "metadata": {},
   "outputs": [],
   "source": [
    "pred_df, P_test_df= model.predict_from_model(cadrres_model, kernel_df, model_spec_name)\n",
    "pred_df.to_csv(\"Test_predictions_CTRPV2.csv\")"
   ]
  }
 ],
 "metadata": {
  "kernelspec": {
   "display_name": "Python 3 (ipykernel)",
   "language": "python",
   "name": "python3"
  },
  "language_info": {
   "codemirror_mode": {
    "name": "ipython",
    "version": 3
   },
   "file_extension": ".py",
   "mimetype": "text/x-python",
   "name": "python",
   "nbconvert_exporter": "python",
   "pygments_lexer": "ipython3",
   "version": "3.9.7"
  }
 },
 "nbformat": 4,
 "nbformat_minor": 5
}
